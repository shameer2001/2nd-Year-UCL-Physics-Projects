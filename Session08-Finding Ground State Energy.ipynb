{
 "cells": [
  {
   "cell_type": "markdown",
   "metadata": {},
   "source": [
    "# 19013880 - Finding the ground state energy:"
   ]
  },
  {
   "cell_type": "code",
   "execution_count": 2,
   "metadata": {},
   "outputs": [],
   "source": [
    "#for interactive plots:\n",
    "%matplotlib notebook\n",
    "\n",
    "#import modules:\n",
    "import numpy as np\n",
    "import matplotlib.pyplot as plt"
   ]
  },
  {
   "cell_type": "markdown",
   "metadata": {},
   "source": [
    "We can find the boundary conditions of the infinite square well, analytically. The energy and wavefunction of the electron that can reside in the well is given by the one-dimensional Schrodinger equation [2]:\n",
    "\n",
    "$$\n",
    "-\\frac{\\hbar^2}{2m} \\frac{d^2\\psi}{dx^2} + V(x)\\psi(x) = E\\psi(x)\n",
    "$$\n",
    "\n",
    " where $V(x)$ is the potential of the electron, $\\psi$ is the wavefunction of the electron, $h$ is the reduced Plank's constant, $m$ is the mass of the electron, $x$ is the 1D position and $E$ is the energy of the electron.\n",
    " \n",
    "First, lets code the constants:"
   ]
  },
  {
   "cell_type": "code",
   "execution_count": 3,
   "metadata": {},
   "outputs": [],
   "source": [
    "m = 9.109383702*(10**(-31)) #mass of electron in kg\n",
    "e = 1.602176634*(10**(-19)) #charge of electron in C\n",
    "h_bar = 1.054571817*(10**(-34)) #reduced Plank's constant in Js\n",
    "a = 5*(10**(-11)) #one boundary of infinite square well... width = 2a"
   ]
  },
  {
   "cell_type": "markdown",
   "metadata": {},
   "source": [
    "In an infinite square well, $V(x)$ is defined as:\n",
    "\n",
    "$$ V_x = \\begin{cases} 0 & \\text{if } -a \\leq x \\leq +a, \\\\ \n",
    "\\infty  & \\text{if } |x| > a, \\end{cases} \n",
    "$$\n",
    "\n",
    "However, from $-a$ to $a$ the potential is 0:"
   ]
  },
  {
   "cell_type": "code",
   "execution_count": 4,
   "metadata": {},
   "outputs": [],
   "source": [
    "def V(x):\n",
    "    '''\n",
    "    Potential function\n",
    "    Inputs: x\n",
    "    Returns: 0.0 for all inputs x\n",
    "    \n",
    "    '''\n",
    "    return 0.0"
   ]
  },
  {
   "cell_type": "markdown",
   "metadata": {},
   "source": [
    "Solving the TISE, gives 2 differential equations [2]:\n",
    "\n",
    "$$\n",
    "\\frac{d \\psi}{dx } = \\phi, \\\\\n",
    "\\frac{d \\phi}{dx } = \\frac{2m}{\\hbar^2} \\left[V(x) - E \\right] \\psi(x),\n",
    "$$\n",
    "\n",
    "where $\\phi$ is the eigenvalue. The differential can be solvedn numerically, using the 4th order Runge-Kutta function, to give $E$ at the boundary $x=a$ Define the two differential equations:"
   ]
  },
  {
   "cell_type": "code",
   "execution_count": 5,
   "metadata": {},
   "outputs": [],
   "source": [
    "def schrodinger(r, x, E):\n",
    "    '''Schrodinger differential equations\n",
    "    Inputs: r (vector of psi and phi), x (1D position), E (energy)\n",
    "    Outputs: [d_psi,d_phi] (both differential equations in an array)\n",
    "    '''\n",
    "    \n",
    "    #psi and phi will be a vector r:\n",
    "    psi = r[0] #psi is the first element \n",
    "    phi = r[1] #phi is second\n",
    "    \n",
    "    #the differential equations:\n",
    "    d_psi = phi\n",
    "    d_phi = ((2*m)/h_bar**2)*(V(x)-E)*psi\n",
    "    \n",
    "    return np.array([d_psi,d_phi]) #return as an array of the differential equations\n"
   ]
  },
  {
   "cell_type": "markdown",
   "metadata": {},
   "source": [
    "We will now define an a array of $x$ values:"
   ]
  },
  {
   "cell_type": "code",
   "execution_count": 6,
   "metadata": {},
   "outputs": [],
   "source": [
    "xstart = -a #starting boundary       \n",
    "xend = a    #ending boundary       \n",
    "N = 1000   #number of x points           \n",
    "h = (xend - xstart)/N #size of each x point\n",
    "\n",
    "xpoints = np.arange(xstart, xend, h) #make x points into an array"
   ]
  },
  {
   "cell_type": "markdown",
   "metadata": {},
   "source": [
    "Using the 4th order Runge-Kutta function, we can numerically solve the differential equations shown above. We will first define an initial $\\mathbf r$ and iterate using the Runge-Kutta function and the function that defines the differential equations (`schrodinger`):"
   ]
  },
  {
   "cell_type": "code",
   "execution_count": 7,
   "metadata": {},
   "outputs": [],
   "source": [
    "#The follwing code is pasted from 10th code cell of 'PHAS0029 Session 8 Finding roots, and boundary value problems', Author: Louise Dash louise.dash@ucl.ac.uk\n",
    "#[1]\n",
    "\n",
    "def RungeKutta2d(xpoints, E):\n",
    "    '''Fourth-order Runge-Kutta rewritten for two simultaneous equations\n",
    "    Inputs: xpoints: array of x values, E: energy\n",
    "    Outputs: [psi_points, phi_points]: solutions for psi(x) and phi(x), numpy arrays one longer than xpoints'''\n",
    "    \n",
    "    initial_psi = 0.0 \n",
    "    initial_phi = 1.0\n",
    "    r = np.array([initial_psi,initial_phi]) #array of initial r\n",
    "\n",
    "    \n",
    "    psi_points = [] #initialise empty arrays\n",
    "    phi_points = []\n",
    "    \n",
    "    for x in xpoints: #loops over all xpoints up to (xend-h)\n",
    "        psi_points.append(r[0])\n",
    "        phi_points.append(r[1])\n",
    "\n",
    "        k1 = h*schrodinger(r, x, E) \n",
    "        k2 = h*schrodinger(r+0.5*k1, x+0.5*h, E)\n",
    "        k3 = h*schrodinger(r+0.5*k2, x+0.5*h, E)\n",
    "        k4 = h*schrodinger(r+k3, x+h, E)\n",
    "        r = r + (k1 + 2*k2 + 2*k3 + k4)/6\n",
    "    \n",
    "    # these next two lines calculate for the point at x = xend!\n",
    "    psi_points.append(r[0])\n",
    "    phi_points.append(r[1])\n",
    "\n",
    "    \n",
    "    return np.array([psi_points]) #only need psi values\n"
   ]
  },
  {
   "cell_type": "markdown",
   "metadata": {},
   "source": [
    "Use the Secant method to find the energy value that leads to $\\psi(x) = 0$ at $x=a$. First, guess two values for $E$ and find the corresponding wavefunctions (represented by Runge-Kutta). Then use a while loop to perform the Secant method:\n"
   ]
  },
  {
   "cell_type": "code",
   "execution_count": 8,
   "metadata": {
    "scrolled": true
   },
   "outputs": [
    {
     "name": "stdout",
     "output_type": "stream",
     "text": [
      "...difference between E1,E2 is 3.550738126956973e-18 \tCondition met? False\n",
      "...difference between E1,E2 is 1.2815251256815889e-18 \tCondition met? False\n",
      "...difference between E1,E2 is 7.959729129154386e-19 \tCondition met? False\n",
      "...difference between E1,E2 is 2.0858055385155895e-19 \tCondition met? False\n",
      "...difference between E1,E2 is 2.6836689494863816e-20 \tCondition met? False\n",
      "...difference between E1,E2 is 7.93588897073721e-22 \tCondition met? False\n",
      "...difference between E1,E2 is 2.7330653648344004e-24 \tCondition met? True\n",
      "\n",
      "The energy needs to be 37.60301621189953 eV\n"
     ]
    }
   ],
   "source": [
    "#The follwing code is pasted from 11th code cell of 'PHAS0029 Session 8 Finding roots, and boundary value problems', Author: Louise Dash louise.dash@ucl.ac.uk\n",
    "[1]\n",
    "\n",
    "#Initial Conditions:\n",
    "E1 = 0.0    # guess 1 of initial E1 (J)\n",
    "E2 = e      # guess 2 of initial E2 (J) \n",
    "\n",
    "wf1 = RungeKutta2d(xpoints, E1)[0,N]\n",
    "wf2 = RungeKutta2d(xpoints, E2)[0,N]\n",
    "\n",
    "tolerance = e/1000 # set the tolerance for convergence\n",
    "\n",
    "#Iterate Secant method:\n",
    "while abs(E2-E1) > tolerance: \n",
    "    E3 = E2 - wf2*(E2-E1)/(wf2-wf1)  #Secant method equation\n",
    "    \n",
    "    #update initial energies for the next iteration:\n",
    "    E1 = E2 \n",
    "    E2 = E3 \n",
    "    \n",
    "    # and recalculate wavefunctions:\n",
    "    wf1 = RungeKutta2d(xpoints, E1)[0,N]\n",
    "    wf2 = RungeKutta2d(xpoints, E2)[0,N]\n",
    "    \n",
    "    print(\"...difference between E1,E2 is\", abs(E2-E1), \"\\tCondition met?\", abs(E2-E1) < tolerance) \n",
    "\n",
    "print() #space\n",
    "print(\"The energy needs to be\", E3/e, \"eV\") #divide by e to convert from J to eV"
   ]
  },
  {
   "cell_type": "markdown",
   "metadata": {},
   "source": [
    "To find the analytical solution to the energy at $\\psi(x) = 0$ at $x=a$, we use the equation [2]:\n",
    "\n",
    "$$\n",
    "E_n = \\frac{\\pi^2 \\hbar^2 n^2}{2m (2a)^2}\n",
    "$$"
   ]
  },
  {
   "cell_type": "code",
   "execution_count": 9,
   "metadata": {},
   "outputs": [
    {
     "name": "stdout",
     "output_type": "stream",
     "text": [
      "The analytically solved energy is 37.60301621352959 eV\n"
     ]
    }
   ],
   "source": [
    "n=1 #define n\n",
    "En = (np.pi**2)*(n**2)*(h_bar**2)/(2*m*((2*a)**2))\n",
    "print(\"The analytically solved energy is\", En/e, \"eV\")"
   ]
  },
  {
   "cell_type": "markdown",
   "metadata": {},
   "source": [
    "## Bibliography\n",
    "\n",
    "[1] * Dash, L. 2021. _\" PHAS0029 Session 8 Finding roots, and boundary value problems\"_. \\[Online\\] UCL Moodle resource. Available from   https://moodle.ucl.ac.uk/course/view.php?id=6766 \\[accessed 9th March 2021\\]\n",
    "\n",
    "[2] * Dash, L. 2021. _\" Supplementary notebook for the Final Assignment\"_. \\[Online\\] UCL Moodle resource. Available from   https://moodle.ucl.ac.uk/course/view.php?id=6766 \\[accessed 9th March 2021\\] \n"
   ]
  },
  {
   "cell_type": "code",
   "execution_count": null,
   "metadata": {},
   "outputs": [],
   "source": []
  }
 ],
 "metadata": {
  "kernelspec": {
   "display_name": "Python 3",
   "language": "python",
   "name": "python3"
  },
  "language_info": {
   "codemirror_mode": {
    "name": "ipython",
    "version": 3
   },
   "file_extension": ".py",
   "mimetype": "text/x-python",
   "name": "python",
   "nbconvert_exporter": "python",
   "pygments_lexer": "ipython3",
   "version": "3.8.3"
  }
 },
 "nbformat": 4,
 "nbformat_minor": 2
}
