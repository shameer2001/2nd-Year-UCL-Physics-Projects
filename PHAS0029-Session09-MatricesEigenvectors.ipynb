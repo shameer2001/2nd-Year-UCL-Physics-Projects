{
 "cells": [
  {
   "cell_type": "markdown",
   "metadata": {},
   "source": [
    "# Session 9: Matrices and Eigenvector problems\n",
    "\n",
    "_Author: louise.dash@ucl.ac.uk    \n",
    "Updated: 10/03/2021_"
   ]
  },
  {
   "cell_type": "markdown",
   "metadata": {},
   "source": [
    "In this session we'll look at using matrices in Python, and in particular the calculation of the eigenvectors. This is something that becomes incredibly useful for solving problems in quantum mechanics, but as (most of) you haven't yet met the matrix formulation of quantum mechanics, we'll apply this only to some (nonetheless interesting) classical systems."
   ]
  },
  {
   "cell_type": "markdown",
   "metadata": {},
   "source": [
    "As usual, we'll start by importing the modules we'll need for this notebook. We'll be making some use of the numpy linalg (linear algebra) module, and so we'll give this its own alias to avoid having to type np.linalg repeatedly."
   ]
  },
  {
   "cell_type": "code",
   "execution_count": 1,
   "metadata": {},
   "outputs": [],
   "source": [
    "import numpy as np\n",
    "import numpy.linalg as la"
   ]
  },
  {
   "cell_type": "markdown",
   "metadata": {},
   "source": [
    "## Matrix basics"
   ]
  },
  {
   "cell_type": "markdown",
   "metadata": {},
   "source": [
    "\n",
    "We'll start by reviewing some of the basics of matrices that you're already familiar with from Maths courses, and their corresponding Python functions. You'll already be familiar with many of these, as we've already used some of them to manipulate one-dimensional numpy arrays - and matrices are just an extension of this to two dimensions.\n",
    "\n",
    "First off, let's create a matrix by hand-inputting the elements. We'll take this as our example matrix:\n",
    "$$        \\mathbf{A} = \\begin{pmatrix}\n",
    "      1 & 2 & 1 \\\\\n",
    "      1 & 12 & 32.5 \\\\\n",
    "      8 & 8 & 9 \n",
    "    \\end{pmatrix}\n",
    "    $$\n",
    "\n",
    "To input it, we just extend the same method as we used for one-dimensional arrays, using the np.array function. (n.b. Although there is a [np.matrix](http://docs.scipy.org/doc/numpy/reference/generated/numpy.matrix.html) function, we're not going to use it. [Here is an explanation](https://docs.scipy.org/doc/numpy-1.17.0/user/numpy-for-matlab-users.html#array-or-matrix-which-should-i-use) why.)"
   ]
  },
  {
   "cell_type": "code",
   "execution_count": 2,
   "metadata": {},
   "outputs": [
    {
     "name": "stdout",
     "output_type": "stream",
     "text": [
      "[[ 1.   2.   1. ]\n",
      " [ 1.  12.  32.5]\n",
      " [ 8.   8.   9. ]]\n"
     ]
    }
   ],
   "source": [
    "# input row-wise, each row enclosed in [], elements separated by ,\n",
    "A = np.array([[1, 2, 1], [1, 12, 32.5], [8, 8, 9]]) \n",
    "print(A)\n"
   ]
  },
  {
   "cell_type": "markdown",
   "metadata": {},
   "source": [
    "We can use the same method as with 1d arrays to refer to parts of the matrix, for example:"
   ]
  },
  {
   "cell_type": "code",
   "execution_count": 3,
   "metadata": {},
   "outputs": [
    {
     "name": "stdout",
     "output_type": "stream",
     "text": [
      "1.0\n"
     ]
    }
   ],
   "source": [
    "print(A[0,0]) # row 1, column 1. Remember Python counts from zero!"
   ]
  },
  {
   "cell_type": "markdown",
   "metadata": {},
   "source": [
    "The extension of this to two-dimensional matrices is fairly straightforward:"
   ]
  },
  {
   "cell_type": "code",
   "execution_count": 4,
   "metadata": {},
   "outputs": [
    {
     "name": "stdout",
     "output_type": "stream",
     "text": [
      "[1. 2. 1.]\n"
     ]
    }
   ],
   "source": [
    "print(A[0,:]) # all of the first row"
   ]
  },
  {
   "cell_type": "code",
   "execution_count": 5,
   "metadata": {},
   "outputs": [
    {
     "name": "stdout",
     "output_type": "stream",
     "text": [
      "[ 1.  32.5  9. ]\n"
     ]
    }
   ],
   "source": [
    "print(A[:,2]) # all of the third column"
   ]
  },
  {
   "cell_type": "markdown",
   "metadata": {},
   "source": [
    "We can calculate, for example, the sum of the elements of the second row:"
   ]
  },
  {
   "cell_type": "code",
   "execution_count": 6,
   "metadata": {},
   "outputs": [
    {
     "name": "stdout",
     "output_type": "stream",
     "text": [
      "45.5\n"
     ]
    }
   ],
   "source": [
    "print(np.sum(A[1,:]))"
   ]
  },
  {
   "cell_type": "markdown",
   "metadata": {},
   "source": [
    "Other basic matrix operations are more-or-less what you might guess them to be. For example, we can extract the diagonal elements of a matrix (like we did for the diagonal elements of the matrix of covariance in Session 3):"
   ]
  },
  {
   "cell_type": "code",
   "execution_count": 7,
   "metadata": {},
   "outputs": [
    {
     "name": "stdout",
     "output_type": "stream",
     "text": [
      "[ 1. 12.  9.]\n"
     ]
    }
   ],
   "source": [
    "print(np.diag(A)) # diagonal elements of a matrix: note that this is itself an array"
   ]
  },
  {
   "cell_type": "markdown",
   "metadata": {},
   "source": [
    "The `np.diag` command can also be used to *construct* a diagonal matrix from a one-dimensional array:"
   ]
  },
  {
   "cell_type": "code",
   "execution_count": 10,
   "metadata": {},
   "outputs": [
    {
     "name": "stdout",
     "output_type": "stream",
     "text": [
      "[1 2 3 4]\n",
      "Here is a diagonal matrix:\n",
      " [[1 0 0 0]\n",
      " [0 2 0 0]\n",
      " [0 0 3 0]\n",
      " [0 0 0 4]]\n"
     ]
    }
   ],
   "source": [
    "x = np.arange(1,5) # create a 1d array\n",
    "print(x)\n",
    "xmatrix = np.diag(x) # use it to create diagonal matrix\n",
    "print(\"Here is a diagonal matrix:\\n\", xmatrix)"
   ]
  },
  {
   "cell_type": "markdown",
   "metadata": {},
   "source": [
    "It's also possible to calculate the trace of a matrix, i.e. the sum of the diagonal elements.\n",
    "$$\n",
    "\\mathrm{Tr}(\\mathbf{A}) = \\sum_i A_{ii}\n",
    "$$"
   ]
  },
  {
   "cell_type": "code",
   "execution_count": 11,
   "metadata": {},
   "outputs": [
    {
     "name": "stdout",
     "output_type": "stream",
     "text": [
      "The trace of A is 22.0\n",
      "Check that this is the same as sum of diagonal elements: 22.0\n"
     ]
    }
   ],
   "source": [
    "print(\"The trace of A is\", np.trace(A)) # Trace - the sum of the diagonal elements.\n",
    "\n",
    "print(\"Check that this is the same as sum of diagonal elements:\", np.sum(np.diag(A)))"
   ]
  },
  {
   "cell_type": "markdown",
   "metadata": {},
   "source": [
    "Others are sort-of-obvious when you see what they do."
   ]
  },
  {
   "cell_type": "code",
   "execution_count": 12,
   "metadata": {},
   "outputs": [
    {
     "name": "stdout",
     "output_type": "stream",
     "text": [
      "[[1. 0. 0. 0.]\n",
      " [0. 1. 0. 0.]\n",
      " [0. 0. 1. 0.]\n",
      " [0. 0. 0. 1.]]\n"
     ]
    },
    {
     "data": {
      "text/plain": [
       "numpy.ndarray"
      ]
     },
     "execution_count": 12,
     "metadata": {},
     "output_type": "execute_result"
    }
   ],
   "source": [
    "I = np.eye(4)\n",
    " \n",
    "print(I)\n",
    "\n",
    "type(I) # Useful - this command will tell you what type of object I is (here it's a numpy array)"
   ]
  },
  {
   "cell_type": "markdown",
   "metadata": {},
   "source": [
    "### Calculating the transpose and determinant"
   ]
  },
  {
   "cell_type": "markdown",
   "metadata": {},
   "source": [
    "The transpose operation of\n",
    "a matrix swaps the rows with the columns. For example the transpose of matrix\n",
    "$$\\mathbf{H}=\\left(\\begin{matrix}1&2&5\\\\3&8&9\\end{matrix}\\right)$$ is\n",
    "$$\\mathbf{H}^{T}=\\left(\\begin{matrix}1&3\\\\2&8\\\\5&9\\end{matrix}\\right).$$\n",
    "\n",
    "In Python this becomes:\n"
   ]
  },
  {
   "cell_type": "code",
   "execution_count": 13,
   "metadata": {},
   "outputs": [
    {
     "name": "stdout",
     "output_type": "stream",
     "text": [
      "H is\n",
      " [[1 2 5]\n",
      " [3 8 9]]\n",
      "The transpose of H is\n",
      " [[1 3]\n",
      " [2 8]\n",
      " [5 9]]\n"
     ]
    }
   ],
   "source": [
    "H = np.array([[1,2,5],[3,8,9]]) \n",
    "\n",
    "print(\"H is\\n\", H)\n",
    "HT = np.transpose(H)\n",
    "print(\"The transpose of H is\\n\", HT)"
   ]
  },
  {
   "cell_type": "markdown",
   "metadata": {},
   "source": [
    "The determinant of a matrix requires more calculation than just rearranging the elements of the matrix, and is the first function we'll use from the numpy.linalg module: `la.det()`"
   ]
  },
  {
   "cell_type": "code",
   "execution_count": 14,
   "metadata": {},
   "outputs": [
    {
     "name": "stdout",
     "output_type": "stream",
     "text": [
      "For the matrix B = \n",
      " [[1 2]\n",
      " [3 4]]\n",
      "The determinant of B is\n",
      " -2.0000000000000004\n"
     ]
    }
   ],
   "source": [
    "B = np.array([[1,2],[3,4]])\n",
    "print(\"For the matrix B = \\n\", B)\n",
    "print(\"The determinant of B is\\n\", la.det(B))\n",
    "# you should be able to verify this result in your head!"
   ]
  },
  {
   "cell_type": "markdown",
   "metadata": {},
   "source": [
    "### Calculating the inverse of a matrix"
   ]
  },
  {
   "cell_type": "markdown",
   "metadata": {},
   "source": [
    "It's also useful to be able to calculate the inverse of a matrix. The inverse of the matrix $\\mathbf{A}$ is the matrix $\\mathbf{A^{-1}}$ such that the product between these two matrices is the identity matrix:\n",
    "\n",
    "$$ \\mathbf{A}\\cdot\\mathbf{A^{-1}} = \\mathbf{I} $$\n",
    "\n",
    "Be careful here - remember that the inverse of the matrix $\\mathbf{A}$ is not $1/\\mathbf{A}$ as there's no division operation between matrices.  Fortunately the Numpy function [linalg.inv](http://docs.scipy.org/doc/numpy/reference/generated/numpy.linalg.inv.html) can do this for us:"
   ]
  },
  {
   "cell_type": "code",
   "execution_count": 15,
   "metadata": {},
   "outputs": [
    {
     "name": "stdout",
     "output_type": "stream",
     "text": [
      "The inverse of B is\n",
      " [[-2.   1. ]\n",
      " [ 1.5 -0.5]]\n",
      "We can check the result of multiplying the inverse with B\n",
      "This should give us an identity matrix:\n",
      " [[1.00000000e+00 1.11022302e-16]\n",
      " [0.00000000e+00 1.00000000e+00]]\n"
     ]
    }
   ],
   "source": [
    "Binv = la.inv(B)\n",
    "print(\"The inverse of B is\\n\", Binv)\n",
    "print(\"We can check the result of multiplying the inverse with B\")\n",
    "print(\"This should give us an identity matrix:\\n\", np.matmul(B,Binv))\n"
   ]
  },
  {
   "cell_type": "markdown",
   "metadata": {},
   "source": [
    "**IMPORTANT!** note that we used [np.matmul](https://numpy.org/doc/stable/reference/generated/numpy.matmul.html) to multiply the two matrices together, NOT the $*$ operator.  Check for yourself what happens if you use * instead of np.matmul."
   ]
  },
  {
   "cell_type": "markdown",
   "metadata": {},
   "source": [
    "Before we go on, here's a quick tabular summary of all the functions we just met."
   ]
  },
  {
   "cell_type": "markdown",
   "metadata": {},
   "source": [
    "<table>\n",
    "<tr>\n",
    "<th>Maths</th>\n",
    "<th>Python</th>\n",
    "</tr>\n",
    "<tr>\n",
    "<td>Summation , $\\Sigma$</td>\n",
    "<td>np.sum()</td>\n",
    "</tr>\n",
    "<tr>\n",
    "<td>Diagonal</td>\n",
    "<td>np.diag()</td>\n",
    "</tr>\n",
    "<tr>\n",
    "<td>Trace: $\\mathrm{Tr}(\\mathbf{A})$</td>\n",
    "<td>np.trace()</td>\n",
    "</tr><tr>\n",
    "<td>Identity matrix</td>\n",
    "<td>np.eye()</td>\n",
    "</tr>\n",
    "<tr>\n",
    "<td>Transpose: $\\mathbf{A}^T$</td>\n",
    "<td>np.transpose()</td>\n",
    "</tr>\n",
    "<tr>\n",
    "<td>Determinant: $|A|$</td>\n",
    "<td>np.linalg.det()</td>\n",
    "</tr>\n",
    "<tr>\n",
    "<td>Inverse: $\\mathbf{A}^{-1}$</td>\n",
    "<td>np.linalg.inv()</td>\n",
    "</tr>\n",
    "<tr>\n",
    "<td>Matrix multiplication: $\\mathbf{A}\\cdot\\mathbf{B}$</td>\n",
    "<td>np.matmul(A,B)</td>\n",
    "</tr>\n",
    "</table>"
   ]
  },
  {
   "cell_type": "markdown",
   "metadata": {},
   "source": [
    "## Eigenvalues and Eigenvectors"
   ]
  },
  {
   "cell_type": "markdown",
   "metadata": {},
   "source": [
    "The numpy linalg module can also calculate the eigenvalues and eigenvectors of a matrix. In physics, we are nearly always interested in calculating for matrices which are either real symmetric or Hermitian, and the corresponding linalg function is [eigh](http://docs.scipy.org/doc/numpy/reference/generated/numpy.linalg.eigh.html) (the h is for Hermitian. If you ever need to calculate for a non-Hermitian matrix, use `eig` instead.). This function returns both the eigenvalues and eigenvectors of a matrix, in the following form:"
   ]
  },
  {
   "cell_type": "code",
   "execution_count": 18,
   "metadata": {},
   "outputs": [
    {
     "name": "stdout",
     "output_type": "stream",
     "text": [
      "The symmetric matrix:\n",
      " [[1 2]\n",
      " [2 1]]\n",
      "has eigenvalues \n",
      " [-1.  3.]\n",
      "and corresponding eigenvectors\n",
      " [[-0.70710678  0.70710678]\n",
      " [ 0.70710678  0.70710678]]\n"
     ]
    }
   ],
   "source": [
    "AA = np.array([[1, 2], [2, 1]]) # a 2x2 symmetric matrix\n",
    "print(\"The symmetric matrix:\\n\", AA)\n",
    "eigval, eigvec = np.linalg.eigh(AA)\n",
    "print(\"has eigenvalues \\n\", eigval)\n",
    "print(\"and corresponding eigenvectors\\n\", eigvec)"
   ]
  },
  {
   "cell_type": "markdown",
   "metadata": {},
   "source": [
    "We can see that the eigenvalues are returned in the form of a one-dimensional array, and that the eigenvectors are returned as a matrix - each *column* of the matrix represents an eigenvector."
   ]
  },
  {
   "cell_type": "code",
   "execution_count": 19,
   "metadata": {},
   "outputs": [
    {
     "name": "stdout",
     "output_type": "stream",
     "text": [
      "The first eigenvector is [-0.70710678  0.70710678] \n",
      " with corresponding eigenvalue -1.0\n",
      "The second eigenvector is [0.70710678 0.70710678] \n",
      " with corresponding eigenvalue 3.0\n"
     ]
    }
   ],
   "source": [
    "print(\"The first eigenvector is\", eigvec[:,0], \"\\n with corresponding eigenvalue\", eigval[0])\n",
    "\n",
    "print(\"The second eigenvector is\", eigvec[:,1], \"\\n with corresponding eigenvalue\", eigval[1])"
   ]
  },
  {
   "cell_type": "markdown",
   "metadata": {},
   "source": [
    "Note also that the calculated eigenvectors are already normalized:"
   ]
  },
  {
   "cell_type": "code",
   "execution_count": 20,
   "metadata": {},
   "outputs": [
    {
     "name": "stdout",
     "output_type": "stream",
     "text": [
      "Elements of the eigenvector squared sum to  0.9999999999999998\n"
     ]
    }
   ],
   "source": [
    "print(\"Elements of the eigenvector squared sum to \", np.sum(eigvec[:,0]**2))"
   ]
  },
  {
   "cell_type": "markdown",
   "metadata": {},
   "source": [
    "For a $2\\times 2$ matrix like this, it's easy enough to calculate the eigenvalues and eigenvectors by hand. If you've ever tried to calculate the eigensolutions of a larger matrix by hand however, you'll appreciate how much easier it is to do computationally! The ability to solve large matrices opens up a whole new class of systems that we can solve, especially in quantum mechanics."
   ]
  },
  {
   "cell_type": "markdown",
   "metadata": {},
   "source": [
    "## Your task"
   ]
  },
  {
   "cell_type": "markdown",
   "metadata": {},
   "source": [
    "* Do the quick quiz on Moodle\n",
    "* Then download, read, and complete the second Jupyter notebook from Moodle, which will guide you through using matrices to solve for a one-dimensional system of beads coupled to springs."
   ]
  },
  {
   "cell_type": "code",
   "execution_count": 22,
   "metadata": {},
   "outputs": [
    {
     "name": "stdout",
     "output_type": "stream",
     "text": [
      "[-4.05168034  5.88353689 10.04178692]\n",
      "[[-0.42761796  0.33429449  0.83987504]\n",
      " [-0.73429303  0.41342594 -0.53841688]\n",
      " [ 0.52721592  0.84695111 -0.06868176]]\n"
     ]
    }
   ],
   "source": [
    "B = np.array([[7,-3,1],[-5, np.sqrt(3),2],[2,4,np.pi]])\n",
    "eigvalB, eigvecB = np.linalg.eigh(B)\n",
    "print(eigvalB)\n",
    "print(eigvecB)"
   ]
  },
  {
   "cell_type": "code",
   "execution_count": null,
   "metadata": {},
   "outputs": [],
   "source": []
  }
 ],
 "metadata": {
  "anaconda-cloud": {},
  "kernelspec": {
   "display_name": "Python 3",
   "language": "python",
   "name": "python3"
  },
  "language_info": {
   "codemirror_mode": {
    "name": "ipython",
    "version": 3
   },
   "file_extension": ".py",
   "mimetype": "text/x-python",
   "name": "python",
   "nbconvert_exporter": "python",
   "pygments_lexer": "ipython3",
   "version": "3.8.3"
  }
 },
 "nbformat": 4,
 "nbformat_minor": 1
}
